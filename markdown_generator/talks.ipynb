{
 "cells": [
  {
   "cell_type": "markdown",
   "metadata": {
    "deletable": true,
    "editable": true
   },
   "source": [
    "# Talks markdown generator for academicpages\n",
    "\n",
    "Takes a TSV of talks with metadata and converts them for use with [academicpages.github.io](academicpages.github.io). This is an interactive Jupyter notebook ([see more info here](http://jupyter-notebook-beginner-guide.readthedocs.io/en/latest/what_is_jupyter.html)). The core python code is also in `talks.py`. Run either from the `markdown_generator` folder after replacing `talks.tsv` with one containing your data.\n",
    "\n",
    "TODO: Make this work with BibTex and other databases, rather than Stuart's non-standard TSV format and citation style."
   ]
  },
  {
   "cell_type": "code",
   "execution_count": 8,
   "metadata": {
    "collapsed": false,
    "deletable": true,
    "editable": true
   },
   "outputs": [],
   "source": [
    "import pandas as pd\n",
    "import os"
   ]
  },
  {
   "cell_type": "markdown",
   "metadata": {},
   "source": [
    "## Data format\n",
    "\n",
    "The TSV needs to have the following columns: title, type, url_slug, venue, date, location, talk_url, description, with a header at the top. Many of these fields can be blank, but the columns must be in the TSV.\n",
    "\n",
    "- Fields that cannot be blank: `title`, `url_slug`, `date`. All else can be blank. `type` defaults to \"Talk\" \n",
    "- `date` must be formatted as YYYY-MM-DD.\n",
    "- `url_slug` will be the descriptive part of the .md file and the permalink URL for the page about the paper. \n",
    "    - The .md file will be `YYYY-MM-DD-[url_slug].md` and the permalink will be `https://[yourdomain]/talks/YYYY-MM-DD-[url_slug]`\n",
    "    - The combination of `url_slug` and `date` must be unique, as it will be the basis for your filenames\n",
    "\n",
    "This is how the raw file looks (it doesn't look pretty, use a spreadsheet or other program to edit and create)."
   ]
  },
  {
   "cell_type": "code",
   "execution_count": 9,
   "metadata": {
    "collapsed": false
   },
   "outputs": [
    {
     "name": "stdout",
     "output_type": "stream",
     "text": [
      "title\ttype\turl_slug\tvenue\tdate\tlocation\ttalk_url\tdescription\n",
      "Welcome to Cyber Jungle\tTalk\ttalk-04\tKKTI ITB\t2021-05-27\tBandung, Jawa Barat\thttps://www.youtube.com/watch?v=t8Na_BLYMA8\tOnline open lecture for KKTI ITB\n",
      "Privacy attack on IoT\tConference proceedings talk\ttalk-03\tICISS20\t2020-11-19\tBandung, Jawa Barat\t\tPresenting the result of our research on privacy attack on IoT\n",
      "Searching for Malware Dataset: a Systematic Literature Review\tConference proceedings talk\ttalk-02\tICITSI20\t2020-10-19\tBandung, Jawa Barat\t\tPresenting the result of our systematic literature review on malware dataset\n",
      "Be mindful of your personal information when using social media platforms \tTalk\ttalk-01\tJatinangor\t2019-02-01\tJatinangor, Jawa Barat\t\tALSA Pro Bono Fakultas Hukum Universitas Padjadjaran\n",
      "Secure your process using Software Development Life Cycle (SDLC) \tTalk\tkey-01\tUnTar\t2018-10-25\tJakarta, DKI Jakarta\t\tKeynote Speaker in Seminar Nasional Teknologi Informasi dan Komunikasi"
     ]
    }
   ],
   "source": [
    "!cat talks.tsv"
   ]
  },
  {
   "cell_type": "markdown",
   "metadata": {},
   "source": [
    "## Import TSV\n",
    "\n",
    "Pandas makes this easy with the read_csv function. We are using a TSV, so we specify the separator as a tab, or `\\t`.\n",
    "\n",
    "I found it important to put this data in a tab-separated values format, because there are a lot of commas in this kind of data and comma-separated values can get messed up. However, you can modify the import statement, as pandas also has read_excel(), read_json(), and others."
   ]
  },
  {
   "cell_type": "code",
   "execution_count": 10,
   "metadata": {
    "collapsed": false,
    "deletable": true,
    "editable": true
   },
   "outputs": [
    {
     "data": {
      "application/vnd.microsoft.datawrangler.viewer.v0+json": {
       "columns": [
        {
         "name": "index",
         "rawType": "int64",
         "type": "integer"
        },
        {
         "name": "title",
         "rawType": "object",
         "type": "string"
        },
        {
         "name": "type",
         "rawType": "object",
         "type": "string"
        },
        {
         "name": "url_slug",
         "rawType": "object",
         "type": "string"
        },
        {
         "name": "venue",
         "rawType": "object",
         "type": "string"
        },
        {
         "name": "date",
         "rawType": "object",
         "type": "string"
        },
        {
         "name": "location",
         "rawType": "object",
         "type": "string"
        },
        {
         "name": "talk_url",
         "rawType": "object",
         "type": "unknown"
        },
        {
         "name": "description",
         "rawType": "object",
         "type": "string"
        }
       ],
       "conversionMethod": "pd.DataFrame",
       "ref": "9310eb98-038c-44ae-b207-0c8bb1927984",
       "rows": [
        [
         "0",
         "Welcome to Cyber Jungle",
         "Talk",
         "talk-04",
         "KKTI ITB",
         "2021-05-27",
         "Bandung, Jawa Barat",
         "https://www.youtube.com/watch?v=t8Na_BLYMA8",
         "Online open lecture for KKTI ITB"
        ],
        [
         "1",
         "Privacy attack on IoT",
         "Conference proceedings talk",
         "talk-03",
         "ICISS20",
         "2020-11-19",
         "Bandung, Jawa Barat",
         null,
         "Presenting the result of our research on privacy attack on IoT"
        ],
        [
         "2",
         "Searching for Malware Dataset: a Systematic Literature Review",
         "Conference proceedings talk",
         "talk-02",
         "ICITSI20",
         "2020-10-19",
         "Bandung, Jawa Barat",
         null,
         "Presenting the result of our systematic literature review on malware dataset"
        ],
        [
         "3",
         "Be mindful of your personal information when using social media platforms ",
         "Talk",
         "talk-01",
         "Jatinangor",
         "2019-02-01",
         "Jatinangor, Jawa Barat",
         null,
         "ALSA Pro Bono Fakultas Hukum Universitas Padjadjaran"
        ],
        [
         "4",
         "Secure your process using Software Development Life Cycle (SDLC) ",
         "Talk",
         "key-01",
         "UnTar",
         "2018-10-25",
         "Jakarta, DKI Jakarta",
         null,
         "Keynote Speaker in Seminar Nasional Teknologi Informasi dan Komunikasi"
        ]
       ],
       "shape": {
        "columns": 8,
        "rows": 5
       }
      },
      "text/html": [
       "<div>\n",
       "<style scoped>\n",
       "    .dataframe tbody tr th:only-of-type {\n",
       "        vertical-align: middle;\n",
       "    }\n",
       "\n",
       "    .dataframe tbody tr th {\n",
       "        vertical-align: top;\n",
       "    }\n",
       "\n",
       "    .dataframe thead th {\n",
       "        text-align: right;\n",
       "    }\n",
       "</style>\n",
       "<table border=\"1\" class=\"dataframe\">\n",
       "  <thead>\n",
       "    <tr style=\"text-align: right;\">\n",
       "      <th></th>\n",
       "      <th>title</th>\n",
       "      <th>type</th>\n",
       "      <th>url_slug</th>\n",
       "      <th>venue</th>\n",
       "      <th>date</th>\n",
       "      <th>location</th>\n",
       "      <th>talk_url</th>\n",
       "      <th>description</th>\n",
       "    </tr>\n",
       "  </thead>\n",
       "  <tbody>\n",
       "    <tr>\n",
       "      <th>0</th>\n",
       "      <td>Welcome to Cyber Jungle</td>\n",
       "      <td>Talk</td>\n",
       "      <td>talk-04</td>\n",
       "      <td>KKTI ITB</td>\n",
       "      <td>2021-05-27</td>\n",
       "      <td>Bandung, Jawa Barat</td>\n",
       "      <td>https://www.youtube.com/watch?v=t8Na_BLYMA8</td>\n",
       "      <td>Online open lecture for KKTI ITB</td>\n",
       "    </tr>\n",
       "    <tr>\n",
       "      <th>1</th>\n",
       "      <td>Privacy attack on IoT</td>\n",
       "      <td>Conference proceedings talk</td>\n",
       "      <td>talk-03</td>\n",
       "      <td>ICISS20</td>\n",
       "      <td>2020-11-19</td>\n",
       "      <td>Bandung, Jawa Barat</td>\n",
       "      <td>NaN</td>\n",
       "      <td>Presenting the result of our research on priva...</td>\n",
       "    </tr>\n",
       "    <tr>\n",
       "      <th>2</th>\n",
       "      <td>Searching for Malware Dataset: a Systematic Li...</td>\n",
       "      <td>Conference proceedings talk</td>\n",
       "      <td>talk-02</td>\n",
       "      <td>ICITSI20</td>\n",
       "      <td>2020-10-19</td>\n",
       "      <td>Bandung, Jawa Barat</td>\n",
       "      <td>NaN</td>\n",
       "      <td>Presenting the result of our systematic litera...</td>\n",
       "    </tr>\n",
       "    <tr>\n",
       "      <th>3</th>\n",
       "      <td>Be mindful of your personal information when u...</td>\n",
       "      <td>Talk</td>\n",
       "      <td>talk-01</td>\n",
       "      <td>Jatinangor</td>\n",
       "      <td>2019-02-01</td>\n",
       "      <td>Jatinangor, Jawa Barat</td>\n",
       "      <td>NaN</td>\n",
       "      <td>ALSA Pro Bono Fakultas Hukum Universitas Padja...</td>\n",
       "    </tr>\n",
       "    <tr>\n",
       "      <th>4</th>\n",
       "      <td>Secure your process using Software Development...</td>\n",
       "      <td>Talk</td>\n",
       "      <td>key-01</td>\n",
       "      <td>UnTar</td>\n",
       "      <td>2018-10-25</td>\n",
       "      <td>Jakarta, DKI Jakarta</td>\n",
       "      <td>NaN</td>\n",
       "      <td>Keynote Speaker in Seminar Nasional Teknologi ...</td>\n",
       "    </tr>\n",
       "  </tbody>\n",
       "</table>\n",
       "</div>"
      ],
      "text/plain": [
       "                                               title  \\\n",
       "0                            Welcome to Cyber Jungle   \n",
       "1                              Privacy attack on IoT   \n",
       "2  Searching for Malware Dataset: a Systematic Li...   \n",
       "3  Be mindful of your personal information when u...   \n",
       "4  Secure your process using Software Development...   \n",
       "\n",
       "                          type url_slug       venue        date  \\\n",
       "0                         Talk  talk-04    KKTI ITB  2021-05-27   \n",
       "1  Conference proceedings talk  talk-03     ICISS20  2020-11-19   \n",
       "2  Conference proceedings talk  talk-02    ICITSI20  2020-10-19   \n",
       "3                         Talk  talk-01  Jatinangor  2019-02-01   \n",
       "4                         Talk   key-01       UnTar  2018-10-25   \n",
       "\n",
       "                 location                                     talk_url  \\\n",
       "0     Bandung, Jawa Barat  https://www.youtube.com/watch?v=t8Na_BLYMA8   \n",
       "1     Bandung, Jawa Barat                                          NaN   \n",
       "2     Bandung, Jawa Barat                                          NaN   \n",
       "3  Jatinangor, Jawa Barat                                          NaN   \n",
       "4    Jakarta, DKI Jakarta                                          NaN   \n",
       "\n",
       "                                         description  \n",
       "0                   Online open lecture for KKTI ITB  \n",
       "1  Presenting the result of our research on priva...  \n",
       "2  Presenting the result of our systematic litera...  \n",
       "3  ALSA Pro Bono Fakultas Hukum Universitas Padja...  \n",
       "4  Keynote Speaker in Seminar Nasional Teknologi ...  "
      ]
     },
     "execution_count": 10,
     "metadata": {},
     "output_type": "execute_result"
    }
   ],
   "source": [
    "talks = pd.read_csv(\"talks.tsv\", sep=\"\\t\", header=0)\n",
    "talks"
   ]
  },
  {
   "cell_type": "markdown",
   "metadata": {},
   "source": [
    "## Escape special characters\n",
    "\n",
    "YAML is very picky about how it takes a valid string, so we are replacing single and double quotes (and ampersands) with their HTML encoded equivilents. This makes them look not so readable in raw format, but they are parsed and rendered nicely."
   ]
  },
  {
   "cell_type": "code",
   "execution_count": 11,
   "metadata": {
    "collapsed": false,
    "deletable": true,
    "editable": true
   },
   "outputs": [],
   "source": [
    "html_escape_table = {\n",
    "    \"&\": \"&amp;\",\n",
    "    '\"': \"&quot;\",\n",
    "    \"'\": \"&apos;\"\n",
    "    }\n",
    "\n",
    "def html_escape(text):\n",
    "    if type(text) is str:\n",
    "        return \"\".join(html_escape_table.get(c,c) for c in text)\n",
    "    else:\n",
    "        return \"False\""
   ]
  },
  {
   "cell_type": "markdown",
   "metadata": {},
   "source": [
    "## Creating the markdown files\n",
    "\n",
    "This is where the heavy lifting is done. This loops through all the rows in the TSV dataframe, then starts to concatentate a big string (```md```) that contains the markdown for each type. It does the YAML metadata first, then does the description for the individual page."
   ]
  },
  {
   "cell_type": "code",
   "execution_count": 12,
   "metadata": {
    "collapsed": false,
    "deletable": true,
    "editable": true
   },
   "outputs": [],
   "source": [
    "loc_dict = {}\n",
    "\n",
    "for row, item in talks.iterrows():\n",
    "    \n",
    "    md_filename = str(item.date) + \"-\" + item.url_slug + \".md\"\n",
    "    html_filename = str(item.date) + \"-\" + item.url_slug \n",
    "    year = item.date[:4]\n",
    "    \n",
    "    md = \"---\\ntitle: \\\"\"   + item.title + '\"\\n'\n",
    "    md += \"collection: talks\" + \"\\n\"\n",
    "    \n",
    "    if len(str(item.type)) > 3:\n",
    "        md += 'type: \"' + item.type + '\"\\n'\n",
    "    else:\n",
    "        md += 'type: \"Talk\"\\n'\n",
    "    \n",
    "    md += \"permalink: /talks/\" + html_filename + \"\\n\"\n",
    "    \n",
    "    if len(str(item.venue)) > 3:\n",
    "        md += 'venue: \"' + item.venue + '\"\\n'\n",
    "        \n",
    "    if len(str(item.location)) > 3:\n",
    "        md += \"date: \" + str(item.date) + \"\\n\"\n",
    "    \n",
    "    if len(str(item.location)) > 3:\n",
    "        md += 'location: \"' + str(item.location) + '\"\\n'\n",
    "           \n",
    "    md += \"---\\n\"\n",
    "    \n",
    "    \n",
    "    if len(str(item.talk_url)) > 3:\n",
    "        md += \"\\n[More information here](\" + item.talk_url + \")\\n\" \n",
    "        \n",
    "    \n",
    "    if len(str(item.description)) > 3:\n",
    "        md += \"\\n\" + html_escape(item.description) + \"\\n\"\n",
    "        \n",
    "        \n",
    "    md_filename = os.path.basename(md_filename)\n",
    "    #print(md)\n",
    "    \n",
    "    with open(\"../_talks/\" + md_filename, 'w') as f:\n",
    "        f.write(md)"
   ]
  },
  {
   "cell_type": "markdown",
   "metadata": {},
   "source": [
    "These files are in the talks directory, one directory below where we're working from."
   ]
  },
  {
   "cell_type": "code",
   "execution_count": 13,
   "metadata": {
    "collapsed": false,
    "deletable": true,
    "editable": true
   },
   "outputs": [
    {
     "name": "stdout",
     "output_type": "stream",
     "text": [
      "2018-10-25-key-01.md  2020-10-19-talk-02.md 2021-05-27-talk-04.md\n",
      "2019-02-01-talk-01.md 2020-11-19-talk-03.md\n"
     ]
    }
   ],
   "source": [
    "!ls ../_talks"
   ]
  },
  {
   "cell_type": "code",
   "execution_count": 14,
   "metadata": {
    "collapsed": false,
    "deletable": true,
    "editable": true
   },
   "outputs": [
    {
     "name": "stdout",
     "output_type": "stream",
     "text": [
      "cat: ../_talks/2013-03-01-tutorial-1.md: No such file or directory\n"
     ]
    }
   ],
   "source": [
    "!cat ../_talks/2013-03-01-tutorial-1.md"
   ]
  }
 ],
 "metadata": {
  "kernelspec": {
   "display_name": "Python 3",
   "language": "python",
   "name": "python3"
  },
  "language_info": {
   "codemirror_mode": {
    "name": "ipython",
    "version": 3
   },
   "file_extension": ".py",
   "mimetype": "text/x-python",
   "name": "python",
   "nbconvert_exporter": "python",
   "pygments_lexer": "ipython3",
   "version": "3.11.2"
  }
 },
 "nbformat": 4,
 "nbformat_minor": 0
}
